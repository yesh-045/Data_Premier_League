{
 "cells": [
  {
   "cell_type": "code",
   "execution_count": 1,
   "metadata": {},
   "outputs": [],
   "source": [
    "import numpy as numpy\n",
    "import pandas as pd\n",
    "import matplotlib.pyplot as plt\n",
    "import seaborn as sns"
   ]
  },
  {
   "cell_type": "code",
   "execution_count": 2,
   "metadata": {},
   "outputs": [
    {
     "data": {
      "text/plain": [
       "Index(['raceId', 'season', 'raceNumber', 'circuitId', 'prixName', 'raceDate',\n",
       "       'driverId', 'constructorId', 'driverStartGridPos', 'driverFinalGridPos',\n",
       "       'driverFinalRank', 'driverRacePoints', 'driverLapCount',\n",
       "       'driverFatestLapNumber', 'driverFastestLapTime',\n",
       "       'driverFastestLapSpeed', 'constructorName', 'constructorNationality',\n",
       "       'constructorChampionshipStandingPoints',\n",
       "       'constructorChampionshipStandingPosition',\n",
       "       'constructorChampionshipStandingWins', 'constructorRacePoints',\n",
       "       'driverDateOfBirth', 'driverNationality',\n",
       "       'driverChampionshipStandingPoints',\n",
       "       'driverChampionshipStandingPosition', 'driverChampionshipStandingWins',\n",
       "       'circuitName', 'circuitLocation', 'circuitCountry', 'lat', 'lng', 'alt',\n",
       "       'driverRaceResultStatus', 'driverName', 'driverAge', 'race_time'],\n",
       "      dtype='object')"
      ]
     },
     "execution_count": 2,
     "metadata": {},
     "output_type": "execute_result"
    }
   ],
   "source": [
    "data_df = pd.read_csv('../../../data/processed/fully_integrated_data.csv')\n",
    "data_df.columns"
   ]
  },
  {
   "cell_type": "code",
   "execution_count": 6,
   "metadata": {},
   "outputs": [
    {
     "data": {
      "text/html": [
       "<div>\n",
       "<style scoped>\n",
       "    .dataframe tbody tr th:only-of-type {\n",
       "        vertical-align: middle;\n",
       "    }\n",
       "\n",
       "    .dataframe tbody tr th {\n",
       "        vertical-align: top;\n",
       "    }\n",
       "\n",
       "    .dataframe thead th {\n",
       "        text-align: right;\n",
       "    }\n",
       "</style>\n",
       "<table border=\"1\" class=\"dataframe\">\n",
       "  <thead>\n",
       "    <tr style=\"text-align: right;\">\n",
       "      <th></th>\n",
       "      <th>driverId</th>\n",
       "      <th>driverName</th>\n",
       "      <th>total_races</th>\n",
       "      <th>avg_finish</th>\n",
       "      <th>std_finish</th>\n",
       "      <th>median_finish</th>\n",
       "      <th>top3_count</th>\n",
       "      <th>top3_rate</th>\n",
       "      <th>consistency_score</th>\n",
       "    </tr>\n",
       "  </thead>\n",
       "  <tbody>\n",
       "    <tr>\n",
       "      <th>0</th>\n",
       "      <td>1</td>\n",
       "      <td>Lewis Hamilton</td>\n",
       "      <td>312</td>\n",
       "      <td>3.227564</td>\n",
       "      <td>2.564188</td>\n",
       "      <td>2.0</td>\n",
       "      <td>202</td>\n",
       "      <td>0.647436</td>\n",
       "      <td>0.389987</td>\n",
       "    </tr>\n",
       "    <tr>\n",
       "      <th>1</th>\n",
       "      <td>2</td>\n",
       "      <td>Nick Heidfeld</td>\n",
       "      <td>66</td>\n",
       "      <td>6.181818</td>\n",
       "      <td>2.939959</td>\n",
       "      <td>6.0</td>\n",
       "      <td>12</td>\n",
       "      <td>0.181818</td>\n",
       "      <td>0.340141</td>\n",
       "    </tr>\n",
       "    <tr>\n",
       "      <th>2</th>\n",
       "      <td>3</td>\n",
       "      <td>Nico Rosberg</td>\n",
       "      <td>145</td>\n",
       "      <td>5.089655</td>\n",
       "      <td>3.397134</td>\n",
       "      <td>5.0</td>\n",
       "      <td>57</td>\n",
       "      <td>0.393103</td>\n",
       "      <td>0.294366</td>\n",
       "    </tr>\n",
       "    <tr>\n",
       "      <th>3</th>\n",
       "      <td>4</td>\n",
       "      <td>Fernando Alonso</td>\n",
       "      <td>261</td>\n",
       "      <td>4.865900</td>\n",
       "      <td>3.040943</td>\n",
       "      <td>4.0</td>\n",
       "      <td>106</td>\n",
       "      <td>0.406130</td>\n",
       "      <td>0.328845</td>\n",
       "    </tr>\n",
       "    <tr>\n",
       "      <th>4</th>\n",
       "      <td>5</td>\n",
       "      <td>Heikki Kovalainen</td>\n",
       "      <td>39</td>\n",
       "      <td>7.564103</td>\n",
       "      <td>3.885160</td>\n",
       "      <td>7.0</td>\n",
       "      <td>4</td>\n",
       "      <td>0.102564</td>\n",
       "      <td>0.25739</td>\n",
       "    </tr>\n",
       "  </tbody>\n",
       "</table>\n",
       "</div>"
      ],
      "text/plain": [
       "   driverId         driverName  total_races  avg_finish  std_finish  \\\n",
       "0         1     Lewis Hamilton          312    3.227564    2.564188   \n",
       "1         2      Nick Heidfeld           66    6.181818    2.939959   \n",
       "2         3       Nico Rosberg          145    5.089655    3.397134   \n",
       "3         4    Fernando Alonso          261    4.865900    3.040943   \n",
       "4         5  Heikki Kovalainen           39    7.564103    3.885160   \n",
       "\n",
       "   median_finish  top3_count  top3_rate consistency_score  \n",
       "0            2.0         202   0.647436          0.389987  \n",
       "1            6.0          12   0.181818          0.340141  \n",
       "2            5.0          57   0.393103          0.294366  \n",
       "3            4.0         106   0.406130          0.328845  \n",
       "4            7.0           4   0.102564           0.25739  "
      ]
     },
     "execution_count": 6,
     "metadata": {},
     "output_type": "execute_result"
    }
   ],
   "source": [
    "df_finished = data_df[data_df[\"driverRaceResultStatus\"] == \"Finished\"]\n",
    "driver_consistency = df_finished.groupby(\"driverId\").agg(\n",
    "    driverName=('driverName', 'first'),\n",
    "    total_races=('raceId', 'count'),\n",
    "    avg_finish=('driverFinalRank', 'mean'),\n",
    "    std_finish=('driverFinalRank', 'std'),\n",
    "    median_finish=('driverFinalRank', 'median'),\n",
    "    top3_count=('driverFinalRank', lambda x: (x <= 3).sum())\n",
    ").reset_index()\n",
    "\n",
    "\n",
    "driver_consistency[\"top3_rate\"] = driver_consistency[\"top3_count\"] / driver_consistency[\"total_races\"]\n",
    "\n",
    "driver_consistency[\"consistency_score\"] = 1 / driver_consistency[\"std_finish\"].replace(0, pd.NA)\n",
    "\n",
    "driver_consistency.head()"
   ]
  },
  {
   "cell_type": "code",
   "execution_count": null,
   "metadata": {},
   "outputs": [],
   "source": []
  }
 ],
 "metadata": {
  "kernelspec": {
   "display_name": ".venv",
   "language": "python",
   "name": "python3"
  },
  "language_info": {
   "codemirror_mode": {
    "name": "ipython",
    "version": 3
   },
   "file_extension": ".py",
   "mimetype": "text/x-python",
   "name": "python",
   "nbconvert_exporter": "python",
   "pygments_lexer": "ipython3",
   "version": "3.12.3"
  }
 },
 "nbformat": 4,
 "nbformat_minor": 2
}
