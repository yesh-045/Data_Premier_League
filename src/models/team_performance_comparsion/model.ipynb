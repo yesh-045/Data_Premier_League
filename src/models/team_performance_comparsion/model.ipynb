{
 "cells": [
  {
   "cell_type": "code",
   "execution_count": 2,
   "metadata": {},
   "outputs": [],
   "source": [
    "import numpy as numpy\n",
    "import pandas as pd\n",
    "import matplotlib.pyplot as plt\n",
    "import seaborn as sns"
   ]
  },
  {
   "cell_type": "code",
   "execution_count": 3,
   "metadata": {},
   "outputs": [
    {
     "data": {
      "text/plain": [
       "Index(['raceId', 'season', 'raceNumber', 'circuitId', 'prixName', 'raceDate',\n",
       "       'driverId', 'constructorId', 'driverStartGridPos', 'driverFinalGridPos',\n",
       "       'driverFinalRank', 'driverRacePoints', 'driverLapCount',\n",
       "       'driverFatestLapNumber', 'driverFastestLapTime',\n",
       "       'driverFastestLapSpeed', 'constructorName', 'constructorNationality',\n",
       "       'constructorChampionshipStandingPoints',\n",
       "       'constructorChampionshipStandingPosition',\n",
       "       'constructorChampionshipStandingWins', 'constructorRacePoints',\n",
       "       'driverDateOfBirth', 'driverNationality',\n",
       "       'driverChampionshipStandingPoints',\n",
       "       'driverChampionshipStandingPosition', 'driverChampionshipStandingWins',\n",
       "       'circuitName', 'circuitLocation', 'circuitCountry', 'lat', 'lng', 'alt',\n",
       "       'driverRaceResultStatus', 'driverName', 'driverAge', 'race_time'],\n",
       "      dtype='object')"
      ]
     },
     "execution_count": 3,
     "metadata": {},
     "output_type": "execute_result"
    }
   ],
   "source": [
    "data_df = pd.read_csv('../../../data/processed/fully_integrated_data.csv')\n",
    "data_df.columns"
   ]
  },
  {
   "cell_type": "code",
   "execution_count": null,
   "metadata": {},
   "outputs": [],
   "source": [
    "race_results  = data_df['raceId','season','']\n",
    "\n",
    "df = race_results_df.merge(\n",
    "    race_results_df, on=\"race_id\", suffixes=(\"\", \"_opponent\")\n",
    ")\n",
    "\n",
    "# Remove self-comparisons (team vs itself)\n",
    "df = df[df[\"team\"] != df[\"team_opponent\"]]\n",
    "\n",
    "# Determine win/loss per race\n",
    "df[\"win\"] = df[\"position\"] < df[\"position_opponent\"]\n",
    "df[\"loss\"] = df[\"position\"] > df[\"position_opponent\"]\n",
    "\n",
    "# Aggregate results per team-opponent pair\n",
    "team_performance = df.groupby([\"team\", \"team_opponent\"]).agg(\n",
    "    total_races_against=(\"race_id\", \"count\"),\n",
    "    wins_against=(\"win\", \"sum\"),\n",
    "    losses_against=(\"loss\", \"sum\")\n",
    ").reset_index()\n",
    "\n",
    "# Compute win rate against opponents\n",
    "team_performance[\"win_rate_against\"] = (\n",
    "    team_performance[\"wins_against\"] / team_performance[\"total_races_against\"]\n",
    ").round(3)\n",
    "\n",
    "print(team_performance.head())  # Show results\n"
   ]
  }
 ],
 "metadata": {
  "kernelspec": {
   "display_name": ".venv",
   "language": "python",
   "name": "python3"
  },
  "language_info": {
   "codemirror_mode": {
    "name": "ipython",
    "version": 3
   },
   "file_extension": ".py",
   "mimetype": "text/x-python",
   "name": "python",
   "nbconvert_exporter": "python",
   "pygments_lexer": "ipython3",
   "version": "3.12.3"
  }
 },
 "nbformat": 4,
 "nbformat_minor": 2
}
