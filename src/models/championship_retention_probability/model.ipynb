{
 "cells": [
  {
   "cell_type": "markdown",
   "metadata": {},
   "source": [
    "### Championship Retention Probability:\n",
    "What is the probability that this season’s winner will retain the title in the next season? Analyze historical trends of back-to-back champions.\n"
   ]
  }
 ],
 "metadata": {
  "language_info": {
   "name": "python"
  }
 },
 "nbformat": 4,
 "nbformat_minor": 2
}
